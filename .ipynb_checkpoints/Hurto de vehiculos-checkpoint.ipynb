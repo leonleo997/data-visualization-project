{
 "cells": [
  {
   "cell_type": "markdown",
   "metadata": {},
   "source": [
    "# ¿Cuáles son las principales características que llevan a que se ROBEN UNA MOTO O UN VEHÍCULO? \n",
    "## Seguro está en los datos"
   ]
  },
  {
   "cell_type": "markdown",
   "metadata": {},
   "source": [
    "### Data processing step"
   ]
  },
  {
   "cell_type": "markdown",
   "metadata": {},
   "source": [
    "Let's load all the dataset:"
   ]
  },
  {
   "cell_type": "code",
   "execution_count": 33,
   "metadata": {},
   "outputs": [],
   "source": [
    "import numpy as np\n",
    "import pandas as pd\n",
    "import requests\n",
    "import json\n",
    "\n",
    "url = \"https://cali.ckan.io/api/3/action/datastore_search?q=Hurto de Motocicletas&resource_id=2291eb53-781e-4834-889d-da6e0e6296e5\"\n",
    "JSONContent = requests.get(url).json()"
   ]
  },
  {
   "cell_type": "markdown",
   "metadata": {},
   "source": [
    "Finding the column names and the records:"
   ]
  },
  {
   "cell_type": "code",
   "execution_count": 34,
   "metadata": {
    "scrolled": true
   },
   "outputs": [
    {
     "name": "stdout",
     "output_type": "stream",
     "text": [
      "Column names: \n",
      " ['_id', 'DEPARTAMENTO', 'MUNICIPIO', 'CODIGO DANE', 'ARMAS MEDIOS', 'MES', 'DESCRIPCION CONDUCTA', 'GENERO', 'AGRUPA EDAD PERSONA', 'CANTIDAD', 'ANIO']\n"
     ]
    }
   ],
   "source": [
    "fields = JSONContent['result']['fields']\n",
    "features = list(map(lambda field: field['id'], fields))\n",
    "print('Column names: \\n', features)"
   ]
  },
  {
   "cell_type": "code",
   "execution_count": 35,
   "metadata": {},
   "outputs": [],
   "source": [
    "def getDataframe(array, columnNames):\n",
    "    df = pd.DataFrame()\n",
    "    for column in columnNames:\n",
    "        df[column]=list(map(lambda record: record[column], array))\n",
    "    return df"
   ]
  },
  {
   "cell_type": "code",
   "execution_count": 36,
   "metadata": {},
   "outputs": [
    {
     "data": {
      "text/html": [
       "<div>\n",
       "<style scoped>\n",
       "    .dataframe tbody tr th:only-of-type {\n",
       "        vertical-align: middle;\n",
       "    }\n",
       "\n",
       "    .dataframe tbody tr th {\n",
       "        vertical-align: top;\n",
       "    }\n",
       "\n",
       "    .dataframe thead th {\n",
       "        text-align: right;\n",
       "    }\n",
       "</style>\n",
       "<table border=\"1\" class=\"dataframe\">\n",
       "  <thead>\n",
       "    <tr style=\"text-align: right;\">\n",
       "      <th></th>\n",
       "      <th>_id</th>\n",
       "      <th>DEPARTAMENTO</th>\n",
       "      <th>MUNICIPIO</th>\n",
       "      <th>CODIGO DANE</th>\n",
       "      <th>ARMAS MEDIOS</th>\n",
       "      <th>MES</th>\n",
       "      <th>DESCRIPCION CONDUCTA</th>\n",
       "      <th>GENERO</th>\n",
       "      <th>AGRUPA EDAD PERSONA</th>\n",
       "      <th>CANTIDAD</th>\n",
       "      <th>ANIO</th>\n",
       "    </tr>\n",
       "  </thead>\n",
       "  <tbody>\n",
       "    <tr>\n",
       "      <th>0</th>\n",
       "      <td>1651</td>\n",
       "      <td>NORTE DE SANTANDER</td>\n",
       "      <td>VILLA DEL ROSARIO</td>\n",
       "      <td>54874000</td>\n",
       "      <td>LLAVE MAESTRA</td>\n",
       "      <td>FEBRERO</td>\n",
       "      <td>ARTÍCULO 239. HURTO MOTOCICLETAS</td>\n",
       "      <td>MASCULINO</td>\n",
       "      <td>ADULTOS</td>\n",
       "      <td>1</td>\n",
       "      <td>2020</td>\n",
       "    </tr>\n",
       "    <tr>\n",
       "      <th>1</th>\n",
       "      <td>150</td>\n",
       "      <td>NORTE DE SANTANDER</td>\n",
       "      <td>CÚCUTA (CT)</td>\n",
       "      <td>54001000</td>\n",
       "      <td>ARMA BLANCA / CORTOPUNZANTE</td>\n",
       "      <td>JUNIO</td>\n",
       "      <td>ARTÍCULO 239. HURTO MOTOCICLETAS</td>\n",
       "      <td>MASCULINO</td>\n",
       "      <td>ADULTOS</td>\n",
       "      <td>1</td>\n",
       "      <td>2020</td>\n",
       "    </tr>\n",
       "    <tr>\n",
       "      <th>2</th>\n",
       "      <td>145</td>\n",
       "      <td>NORTE DE SANTANDER</td>\n",
       "      <td>CÚCUTA (CT)</td>\n",
       "      <td>54001000</td>\n",
       "      <td>ARMA BLANCA / CORTOPUNZANTE</td>\n",
       "      <td>ENERO</td>\n",
       "      <td>ARTÍCULO 239. HURTO MOTOCICLETAS</td>\n",
       "      <td>MASCULINO</td>\n",
       "      <td>ADULTOS</td>\n",
       "      <td>2</td>\n",
       "      <td>2020</td>\n",
       "    </tr>\n",
       "    <tr>\n",
       "      <th>3</th>\n",
       "      <td>148</td>\n",
       "      <td>NORTE DE SANTANDER</td>\n",
       "      <td>CÚCUTA (CT)</td>\n",
       "      <td>54001000</td>\n",
       "      <td>ARMA BLANCA / CORTOPUNZANTE</td>\n",
       "      <td>MARZO</td>\n",
       "      <td>ARTÍCULO 239. HURTO MOTOCICLETAS</td>\n",
       "      <td>MASCULINO</td>\n",
       "      <td>ADULTOS</td>\n",
       "      <td>1</td>\n",
       "      <td>2020</td>\n",
       "    </tr>\n",
       "    <tr>\n",
       "      <th>4</th>\n",
       "      <td>1645</td>\n",
       "      <td>NORTE DE SANTANDER</td>\n",
       "      <td>VILLA DEL ROSARIO</td>\n",
       "      <td>54874000</td>\n",
       "      <td>LLAVE MAESTRA</td>\n",
       "      <td>ENERO</td>\n",
       "      <td>ARTÍCULO 239. HURTO MOTOCICLETAS</td>\n",
       "      <td>MASCULINO</td>\n",
       "      <td>ADULTOS</td>\n",
       "      <td>1</td>\n",
       "      <td>2020</td>\n",
       "    </tr>\n",
       "  </tbody>\n",
       "</table>\n",
       "</div>"
      ],
      "text/plain": [
       "    _id        DEPARTAMENTO          MUNICIPIO  CODIGO DANE  \\\n",
       "0  1651  NORTE DE SANTANDER  VILLA DEL ROSARIO     54874000   \n",
       "1   150  NORTE DE SANTANDER        CÚCUTA (CT)     54001000   \n",
       "2   145  NORTE DE SANTANDER        CÚCUTA (CT)     54001000   \n",
       "3   148  NORTE DE SANTANDER        CÚCUTA (CT)     54001000   \n",
       "4  1645  NORTE DE SANTANDER  VILLA DEL ROSARIO     54874000   \n",
       "\n",
       "                  ARMAS MEDIOS      MES              DESCRIPCION CONDUCTA  \\\n",
       "0                LLAVE MAESTRA  FEBRERO  ARTÍCULO 239. HURTO MOTOCICLETAS   \n",
       "1  ARMA BLANCA / CORTOPUNZANTE    JUNIO  ARTÍCULO 239. HURTO MOTOCICLETAS   \n",
       "2  ARMA BLANCA / CORTOPUNZANTE    ENERO  ARTÍCULO 239. HURTO MOTOCICLETAS   \n",
       "3  ARMA BLANCA / CORTOPUNZANTE    MARZO  ARTÍCULO 239. HURTO MOTOCICLETAS   \n",
       "4                LLAVE MAESTRA    ENERO  ARTÍCULO 239. HURTO MOTOCICLETAS   \n",
       "\n",
       "      GENERO AGRUPA EDAD PERSONA  CANTIDAD  ANIO  \n",
       "0  MASCULINO             ADULTOS         1  2020  \n",
       "1  MASCULINO             ADULTOS         1  2020  \n",
       "2  MASCULINO             ADULTOS         2  2020  \n",
       "3  MASCULINO             ADULTOS         1  2020  \n",
       "4  MASCULINO             ADULTOS         1  2020  "
      ]
     },
     "execution_count": 36,
     "metadata": {},
     "output_type": "execute_result"
    }
   ],
   "source": [
    "records = JSONContent['result']['records']\n",
    "df = getDataframe(records, features)\n",
    "tamanio = len(df)\n",
    "df.head()"
   ]
  },
  {
   "cell_type": "markdown",
   "metadata": {},
   "source": [
    "Due to there are only 100 records, let's proceed to iterate to find the other ones"
   ]
  },
  {
   "cell_type": "code",
   "execution_count": 37,
   "metadata": {},
   "outputs": [
    {
     "name": "stdout",
     "output_type": "stream",
     "text": [
      "TAMANIO: 100\n",
      "TAMANIO: 200\n",
      "TAMANIO: 300\n",
      "TAMANIO: 400\n",
      "TAMANIO: 500\n",
      "TAMANIO: 600\n",
      "TAMANIO: 700\n",
      "TAMANIO: 800\n",
      "TAMANIO: 900\n",
      "TAMANIO: 1000\n",
      "TAMANIO: 1100\n",
      "TAMANIO: 1200\n",
      "TAMANIO: 1300\n",
      "TAMANIO: 1400\n",
      "TAMANIO: 1500\n",
      "TAMANIO: 1600\n",
      "TAMANIO: 1700\n",
      "TAMANIO: 1800\n",
      "TAMANIO: 1900\n",
      "TAMANIO: 2000\n",
      "TAMANIO: 2100\n",
      "TAMANIO: 2200\n",
      "TAMANIO: 2297\n"
     ]
    }
   ],
   "source": [
    "baseURL='https://cali.ckan.io'\n",
    "links=JSONContent['result']['_links']\n",
    "while(tamanio > 0):\n",
    "    nextURL=JSONContent['result']['_links']['next']\n",
    "    url = f\"{baseURL}{nextURL}\"\n",
    "    JSONContent = requests.get(url).json()\n",
    "    records = JSONContent['result']['records']\n",
    "    new_df = getDataframe(records, features)\n",
    "    tamanio = len(new_df)\n",
    "    print('TAMANIO:', len(df))\n",
    "    df = pd.concat([df, new_df])"
   ]
  },
  {
   "cell_type": "markdown",
   "metadata": {},
   "source": [
    "### Data exploration"
   ]
  },
  {
   "cell_type": "markdown",
   "metadata": {},
   "source": [
    "Let's explore de data:"
   ]
  },
  {
   "cell_type": "code",
   "execution_count": 60,
   "metadata": {},
   "outputs": [
    {
     "data": {
      "text/html": [
       "<div>\n",
       "<style scoped>\n",
       "    .dataframe tbody tr th:only-of-type {\n",
       "        vertical-align: middle;\n",
       "    }\n",
       "\n",
       "    .dataframe tbody tr th {\n",
       "        vertical-align: top;\n",
       "    }\n",
       "\n",
       "    .dataframe thead th {\n",
       "        text-align: right;\n",
       "    }\n",
       "</style>\n",
       "<table border=\"1\" class=\"dataframe\">\n",
       "  <thead>\n",
       "    <tr style=\"text-align: right;\">\n",
       "      <th></th>\n",
       "      <th>type</th>\n",
       "      <th>id</th>\n",
       "      <th>label</th>\n",
       "      <th>note</th>\n",
       "    </tr>\n",
       "  </thead>\n",
       "  <tbody>\n",
       "    <tr>\n",
       "      <th>0</th>\n",
       "      <td>int</td>\n",
       "      <td>_id</td>\n",
       "      <td></td>\n",
       "      <td></td>\n",
       "    </tr>\n",
       "    <tr>\n",
       "      <th>1</th>\n",
       "      <td>text</td>\n",
       "      <td>DEPARTAMENTO</td>\n",
       "      <td>DEPARTAMENTO</td>\n",
       "      <td>Departamento en dónde ocurrió el delíto.</td>\n",
       "    </tr>\n",
       "    <tr>\n",
       "      <th>2</th>\n",
       "      <td>text</td>\n",
       "      <td>MUNICIPIO</td>\n",
       "      <td>MUNICIPIO</td>\n",
       "      <td>Municipio en dónde ocurrió el delíto.</td>\n",
       "    </tr>\n",
       "    <tr>\n",
       "      <th>3</th>\n",
       "      <td>numeric</td>\n",
       "      <td>CODIGO DANE</td>\n",
       "      <td>CODIGO DANE</td>\n",
       "      <td>Código DANE que identifica al Departamento y M...</td>\n",
       "    </tr>\n",
       "    <tr>\n",
       "      <th>4</th>\n",
       "      <td>text</td>\n",
       "      <td>ARMAS MEDIOS</td>\n",
       "      <td>ARMAS MEDIOS</td>\n",
       "      <td>Corresponde al típo de arma o medio usado dura...</td>\n",
       "    </tr>\n",
       "    <tr>\n",
       "      <th>5</th>\n",
       "      <td>text</td>\n",
       "      <td>MES</td>\n",
       "      <td>MES</td>\n",
       "      <td>Mes del año en el cúal ocurrió el delíto.</td>\n",
       "    </tr>\n",
       "    <tr>\n",
       "      <th>6</th>\n",
       "      <td>text</td>\n",
       "      <td>DESCRIPCION CONDUCTA</td>\n",
       "      <td>DESCRIPCION CONDUCTA</td>\n",
       "      <td>Corresponde al artículo que hace referencia al...</td>\n",
       "    </tr>\n",
       "    <tr>\n",
       "      <th>7</th>\n",
       "      <td>text</td>\n",
       "      <td>GENERO</td>\n",
       "      <td>GENERO</td>\n",
       "      <td>Corresponde al género de la persona involucrad...</td>\n",
       "    </tr>\n",
       "    <tr>\n",
       "      <th>8</th>\n",
       "      <td>text</td>\n",
       "      <td>AGRUPA EDAD PERSONA</td>\n",
       "      <td>AGRUPA EDAD PERSONA</td>\n",
       "      <td>Es el grupo de edad al cúal pertenece la perso...</td>\n",
       "    </tr>\n",
       "    <tr>\n",
       "      <th>9</th>\n",
       "      <td>numeric</td>\n",
       "      <td>CANTIDAD</td>\n",
       "      <td>CANTIDAD</td>\n",
       "      <td>¿Cantidad de involucrados en el delíto?</td>\n",
       "    </tr>\n",
       "    <tr>\n",
       "      <th>10</th>\n",
       "      <td>numeric</td>\n",
       "      <td>ANIO</td>\n",
       "      <td>ANIO</td>\n",
       "      <td>Año en el cúal ocurrió el delíto.</td>\n",
       "    </tr>\n",
       "  </tbody>\n",
       "</table>\n",
       "</div>"
      ],
      "text/plain": [
       "       type                    id                 label  \\\n",
       "0       int                   _id                         \n",
       "1      text          DEPARTAMENTO          DEPARTAMENTO   \n",
       "2      text             MUNICIPIO             MUNICIPIO   \n",
       "3   numeric           CODIGO DANE           CODIGO DANE   \n",
       "4      text          ARMAS MEDIOS          ARMAS MEDIOS   \n",
       "5      text                   MES                   MES   \n",
       "6      text  DESCRIPCION CONDUCTA  DESCRIPCION CONDUCTA   \n",
       "7      text                GENERO                GENERO   \n",
       "8      text   AGRUPA EDAD PERSONA   AGRUPA EDAD PERSONA   \n",
       "9   numeric              CANTIDAD              CANTIDAD   \n",
       "10  numeric                  ANIO                  ANIO   \n",
       "\n",
       "                                                 note  \n",
       "0                                                      \n",
       "1            Departamento en dónde ocurrió el delíto.  \n",
       "2               Municipio en dónde ocurrió el delíto.  \n",
       "3   Código DANE que identifica al Departamento y M...  \n",
       "4   Corresponde al típo de arma o medio usado dura...  \n",
       "5           Mes del año en el cúal ocurrió el delíto.  \n",
       "6   Corresponde al artículo que hace referencia al...  \n",
       "7   Corresponde al género de la persona involucrad...  \n",
       "8   Es el grupo de edad al cúal pertenece la perso...  \n",
       "9             ¿Cantidad de involucrados en el delíto?  \n",
       "10                  Año en el cúal ocurrió el delíto.  "
      ]
     },
     "execution_count": 60,
     "metadata": {},
     "output_type": "execute_result"
    }
   ],
   "source": [
    "fields = JSONContent['result']['fields']\n",
    "df_info =  pd.DataFrame()\n",
    "df_info['type'] = list(map(lambda field: field['type'], fields))\n",
    "df_info['id'] = list(map(lambda field: field['id'], fields))\n",
    "df_info['label'] = list(map(lambda field: field['info']['label'] if 'info' in field else '', fields))\n",
    "df_info['note'] = list(map(lambda field: field['info']['notes'] if 'info' in field else '', fields))\n",
    "df_info"
   ]
  },
  {
   "cell_type": "code",
   "execution_count": 63,
   "metadata": {},
   "outputs": [
    {
     "data": {
      "text/plain": [
       "0    54874000.0\n",
       "1    54001000.0\n",
       "2    54001000.0\n",
       "3    54001000.0\n",
       "4    54874000.0\n",
       "Name: CODIGO DANE, dtype: float64"
      ]
     },
     "execution_count": 63,
     "metadata": {},
     "output_type": "execute_result"
    }
   ],
   "source": [
    "df['CODIGO DANE'].head()"
   ]
  },
  {
   "cell_type": "code",
   "execution_count": 73,
   "metadata": {},
   "outputs": [
    {
     "name": "stdout",
     "output_type": "stream",
     "text": [
      "<class 'pandas.core.frame.DataFrame'>\n",
      "Int64Index: 2297 entries, 0 to 96\n",
      "Data columns (total 11 columns):\n",
      " #   Column                Non-Null Count  Dtype  \n",
      "---  ------                --------------  -----  \n",
      " 0   _id                   2297 non-null   float64\n",
      " 1   DEPARTAMENTO          2297 non-null   object \n",
      " 2   MUNICIPIO             2297 non-null   object \n",
      " 3   CODIGO DANE           2297 non-null   float64\n",
      " 4   ARMAS MEDIOS          2297 non-null   object \n",
      " 5   MES                   2297 non-null   object \n",
      " 6   DESCRIPCION CONDUCTA  2297 non-null   object \n",
      " 7   GENERO                2297 non-null   object \n",
      " 8   AGRUPA EDAD PERSONA   2297 non-null   object \n",
      " 9   CANTIDAD              2297 non-null   float64\n",
      " 10  ANIO                  2297 non-null   float64\n",
      "dtypes: float64(4), object(7)\n",
      "memory usage: 215.3+ KB\n"
     ]
    }
   ],
   "source": [
    "df.info()"
   ]
  },
  {
   "cell_type": "code",
   "execution_count": 74,
   "metadata": {},
   "outputs": [
    {
     "data": {
      "text/html": [
       "<div>\n",
       "<style scoped>\n",
       "    .dataframe tbody tr th:only-of-type {\n",
       "        vertical-align: middle;\n",
       "    }\n",
       "\n",
       "    .dataframe tbody tr th {\n",
       "        vertical-align: top;\n",
       "    }\n",
       "\n",
       "    .dataframe thead th {\n",
       "        text-align: right;\n",
       "    }\n",
       "</style>\n",
       "<table border=\"1\" class=\"dataframe\">\n",
       "  <thead>\n",
       "    <tr style=\"text-align: right;\">\n",
       "      <th></th>\n",
       "      <th>DEPARTAMENTO</th>\n",
       "      <th>MUNICIPIO</th>\n",
       "      <th>ARMAS MEDIOS</th>\n",
       "      <th>MES</th>\n",
       "      <th>DESCRIPCION CONDUCTA</th>\n",
       "      <th>GENERO</th>\n",
       "      <th>AGRUPA EDAD PERSONA</th>\n",
       "    </tr>\n",
       "  </thead>\n",
       "  <tbody>\n",
       "    <tr>\n",
       "      <th>count</th>\n",
       "      <td>2297</td>\n",
       "      <td>2297</td>\n",
       "      <td>2297</td>\n",
       "      <td>2297</td>\n",
       "      <td>2297</td>\n",
       "      <td>2297</td>\n",
       "      <td>2297</td>\n",
       "    </tr>\n",
       "    <tr>\n",
       "      <th>unique</th>\n",
       "      <td>31</td>\n",
       "      <td>471</td>\n",
       "      <td>7</td>\n",
       "      <td>6</td>\n",
       "      <td>1</td>\n",
       "      <td>3</td>\n",
       "      <td>4</td>\n",
       "    </tr>\n",
       "    <tr>\n",
       "      <th>top</th>\n",
       "      <td>ANTIOQUIA</td>\n",
       "      <td>CÚCUTA (CT)</td>\n",
       "      <td>SIN EMPLEO DE ARMAS</td>\n",
       "      <td>ENERO</td>\n",
       "      <td>ARTÍCULO 239. HURTO MOTOCICLETAS</td>\n",
       "      <td>MASCULINO</td>\n",
       "      <td>ADULTOS</td>\n",
       "    </tr>\n",
       "    <tr>\n",
       "      <th>freq</th>\n",
       "      <td>400</td>\n",
       "      <td>38</td>\n",
       "      <td>1103</td>\n",
       "      <td>610</td>\n",
       "      <td>2297</td>\n",
       "      <td>1635</td>\n",
       "      <td>2273</td>\n",
       "    </tr>\n",
       "  </tbody>\n",
       "</table>\n",
       "</div>"
      ],
      "text/plain": [
       "       DEPARTAMENTO    MUNICIPIO         ARMAS MEDIOS    MES  \\\n",
       "count          2297         2297                 2297   2297   \n",
       "unique           31          471                    7      6   \n",
       "top       ANTIOQUIA  CÚCUTA (CT)  SIN EMPLEO DE ARMAS  ENERO   \n",
       "freq            400           38                 1103    610   \n",
       "\n",
       "                    DESCRIPCION CONDUCTA     GENERO AGRUPA EDAD PERSONA  \n",
       "count                               2297       2297                2297  \n",
       "unique                                 1          3                   4  \n",
       "top     ARTÍCULO 239. HURTO MOTOCICLETAS  MASCULINO             ADULTOS  \n",
       "freq                                2297       1635                2273  "
      ]
     },
     "execution_count": 74,
     "metadata": {},
     "output_type": "execute_result"
    }
   ],
   "source": [
    "df.describe(include=np.object)"
   ]
  },
  {
   "cell_type": "code",
   "execution_count": 93,
   "metadata": {},
   "outputs": [
    {
     "data": {
      "text/plain": [
       "CÚCUTA (CT)          38\n",
       "OCAÑA                32\n",
       "MEDELLÍN (CT)        30\n",
       "BARRANQUILLA (CT)    28\n",
       "CARTAGENA (CT)       27\n",
       "                     ..\n",
       "SALDAÑA               1\n",
       "RECETOR               1\n",
       "PASCA                 1\n",
       "SIMIJACA              1\n",
       "TARQUI                1\n",
       "Name: MUNICIPIO, Length: 471, dtype: int64"
      ]
     },
     "execution_count": 93,
     "metadata": {},
     "output_type": "execute_result"
    }
   ],
   "source": [
    "df.MUNICIPIO.value_counts() \n",
    "#df[df.MUNICIPIO == 'CUCUTA'].MUNICIPIO"
   ]
  }
 ],
 "metadata": {
  "kernelspec": {
   "display_name": "Python 3",
   "language": "python",
   "name": "python3"
  },
  "language_info": {
   "codemirror_mode": {
    "name": "ipython",
    "version": 3
   },
   "file_extension": ".py",
   "mimetype": "text/x-python",
   "name": "python",
   "nbconvert_exporter": "python",
   "pygments_lexer": "ipython3",
   "version": "3.8.5"
  }
 },
 "nbformat": 4,
 "nbformat_minor": 4
}
