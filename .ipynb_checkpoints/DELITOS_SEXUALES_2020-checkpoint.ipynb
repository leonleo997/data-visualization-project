{
 "cells": [
  {
   "cell_type": "markdown",
   "metadata": {},
   "source": [
    "# ¿Cuáles son las principales características que llevan a que se ROBEN UNA MOTO O UN VEHÍCULO? \n",
    "## Seguro está en los datos"
   ]
  },
  {
   "cell_type": "markdown",
   "metadata": {},
   "source": [
    "### Data processing step"
   ]
  },
  {
   "cell_type": "markdown",
   "metadata": {},
   "source": [
    "Let's load all the dataset:"
   ]
  },
  {
   "cell_type": "code",
   "execution_count": 11,
   "metadata": {},
   "outputs": [],
   "source": [
    "import numpy as np\n",
    "import pandas as pd\n",
    "import requests\n",
    "import json\n",
    "\n",
    "url = 'https://cali.ckan.io/api/3/action/datastore_search?resource_id=3bbd031c-1642-4d5f-b1b4-7b7d7101320f&q={\"MUNICIPIO\":\"cali\"}'\n",
    "JSONContent = requests.get(url).json()"
   ]
  },
  {
   "cell_type": "markdown",
   "metadata": {},
   "source": [
    "Finding the column names and the records:"
   ]
  },
  {
   "cell_type": "code",
   "execution_count": 12,
   "metadata": {
    "scrolled": true
   },
   "outputs": [
    {
     "name": "stdout",
     "output_type": "stream",
     "text": [
      "Column names: \n",
      " ['_id', 'DEPARTAMENTO', 'MUNICIPIO', 'CODIGO DANE', 'ARMAS MEDIOS', 'MES', 'DESCRIPCION CONDUCTA', 'GENERO', 'AGRUPA EDAD PERSONA', 'CANTIDAD', 'ANIO']\n"
     ]
    }
   ],
   "source": [
    "fields = JSONContent['result']['fields']\n",
    "features = list(map(lambda field: field['id'], fields))\n",
    "print('Column names: \\n', features)"
   ]
  },
  {
   "cell_type": "code",
   "execution_count": 13,
   "metadata": {},
   "outputs": [],
   "source": [
    "def getDataframe(array, columnNames):\n",
    "    df = pd.DataFrame()\n",
    "    for column in columnNames:\n",
    "        df[column]=list(map(lambda record: record[column], array))\n",
    "    return df"
   ]
  },
  {
   "cell_type": "code",
   "execution_count": 14,
   "metadata": {},
   "outputs": [
    {
     "data": {
      "text/html": [
       "<div>\n",
       "<style scoped>\n",
       "    .dataframe tbody tr th:only-of-type {\n",
       "        vertical-align: middle;\n",
       "    }\n",
       "\n",
       "    .dataframe tbody tr th {\n",
       "        vertical-align: top;\n",
       "    }\n",
       "\n",
       "    .dataframe thead th {\n",
       "        text-align: right;\n",
       "    }\n",
       "</style>\n",
       "<table border=\"1\" class=\"dataframe\">\n",
       "  <thead>\n",
       "    <tr style=\"text-align: right;\">\n",
       "      <th></th>\n",
       "      <th>_id</th>\n",
       "      <th>DEPARTAMENTO</th>\n",
       "      <th>MUNICIPIO</th>\n",
       "      <th>CODIGO DANE</th>\n",
       "      <th>ARMAS MEDIOS</th>\n",
       "      <th>MES</th>\n",
       "      <th>DESCRIPCION CONDUCTA</th>\n",
       "      <th>GENERO</th>\n",
       "      <th>AGRUPA EDAD PERSONA</th>\n",
       "      <th>CANTIDAD</th>\n",
       "      <th>ANIO</th>\n",
       "    </tr>\n",
       "  </thead>\n",
       "  <tbody>\n",
       "    <tr>\n",
       "      <th>0</th>\n",
       "      <td>674</td>\n",
       "      <td>VALLE</td>\n",
       "      <td>CALI (CT)</td>\n",
       "      <td>76001000</td>\n",
       "      <td>ARMA BLANCA / CORTOPUNZANTE</td>\n",
       "      <td>ENERO</td>\n",
       "      <td>ARTÍCULO 209. ACTOS SEXUALES CON MENOR DE 14 AÑOS</td>\n",
       "      <td>FEMENINO</td>\n",
       "      <td>MENORES</td>\n",
       "      <td>1</td>\n",
       "      <td>2020</td>\n",
       "    </tr>\n",
       "    <tr>\n",
       "      <th>1</th>\n",
       "      <td>675</td>\n",
       "      <td>VALLE</td>\n",
       "      <td>CALI (CT)</td>\n",
       "      <td>76001000</td>\n",
       "      <td>ARMA BLANCA / CORTOPUNZANTE</td>\n",
       "      <td>ENERO</td>\n",
       "      <td>ARTÍCULO 205. ACCESO CARNAL VIOLENTO</td>\n",
       "      <td>FEMENINO</td>\n",
       "      <td>ADULTOS</td>\n",
       "      <td>2</td>\n",
       "      <td>2020</td>\n",
       "    </tr>\n",
       "    <tr>\n",
       "      <th>2</th>\n",
       "      <td>676</td>\n",
       "      <td>VALLE</td>\n",
       "      <td>CALI (CT)</td>\n",
       "      <td>76001000</td>\n",
       "      <td>ARMA BLANCA / CORTOPUNZANTE</td>\n",
       "      <td>ENERO</td>\n",
       "      <td>ARTÍCULO 206. ACTO SEXUAL VIOLENTO</td>\n",
       "      <td>FEMENINO</td>\n",
       "      <td>ADOLESCENTES</td>\n",
       "      <td>1</td>\n",
       "      <td>2020</td>\n",
       "    </tr>\n",
       "    <tr>\n",
       "      <th>3</th>\n",
       "      <td>680</td>\n",
       "      <td>VALLE</td>\n",
       "      <td>CALI (CT)</td>\n",
       "      <td>76001000</td>\n",
       "      <td>ARMA BLANCA / CORTOPUNZANTE</td>\n",
       "      <td>FEBRERO</td>\n",
       "      <td>ARTÍCULO 209. ACTOS SEXUALES CON MENOR DE 14 AÑOS</td>\n",
       "      <td>MASCULINO</td>\n",
       "      <td>MENORES</td>\n",
       "      <td>1</td>\n",
       "      <td>2020</td>\n",
       "    </tr>\n",
       "    <tr>\n",
       "      <th>4</th>\n",
       "      <td>681</td>\n",
       "      <td>VALLE</td>\n",
       "      <td>CALI (CT)</td>\n",
       "      <td>76001000</td>\n",
       "      <td>ARMA BLANCA / CORTOPUNZANTE</td>\n",
       "      <td>FEBRERO</td>\n",
       "      <td>ARTÍCULO 205. ACCESO CARNAL VIOLENTO</td>\n",
       "      <td>FEMENINO</td>\n",
       "      <td>ADULTOS</td>\n",
       "      <td>2</td>\n",
       "      <td>2020</td>\n",
       "    </tr>\n",
       "  </tbody>\n",
       "</table>\n",
       "</div>"
      ],
      "text/plain": [
       "   _id DEPARTAMENTO  MUNICIPIO  CODIGO DANE                 ARMAS MEDIOS  \\\n",
       "0  674        VALLE  CALI (CT)     76001000  ARMA BLANCA / CORTOPUNZANTE   \n",
       "1  675        VALLE  CALI (CT)     76001000  ARMA BLANCA / CORTOPUNZANTE   \n",
       "2  676        VALLE  CALI (CT)     76001000  ARMA BLANCA / CORTOPUNZANTE   \n",
       "3  680        VALLE  CALI (CT)     76001000  ARMA BLANCA / CORTOPUNZANTE   \n",
       "4  681        VALLE  CALI (CT)     76001000  ARMA BLANCA / CORTOPUNZANTE   \n",
       "\n",
       "       MES                               DESCRIPCION CONDUCTA     GENERO  \\\n",
       "0    ENERO  ARTÍCULO 209. ACTOS SEXUALES CON MENOR DE 14 AÑOS   FEMENINO   \n",
       "1    ENERO               ARTÍCULO 205. ACCESO CARNAL VIOLENTO   FEMENINO   \n",
       "2    ENERO                 ARTÍCULO 206. ACTO SEXUAL VIOLENTO   FEMENINO   \n",
       "3  FEBRERO  ARTÍCULO 209. ACTOS SEXUALES CON MENOR DE 14 AÑOS  MASCULINO   \n",
       "4  FEBRERO               ARTÍCULO 205. ACCESO CARNAL VIOLENTO   FEMENINO   \n",
       "\n",
       "  AGRUPA EDAD PERSONA  CANTIDAD  ANIO  \n",
       "0             MENORES         1  2020  \n",
       "1             ADULTOS         2  2020  \n",
       "2        ADOLESCENTES         1  2020  \n",
       "3             MENORES         1  2020  \n",
       "4             ADULTOS         2  2020  "
      ]
     },
     "execution_count": 14,
     "metadata": {},
     "output_type": "execute_result"
    }
   ],
   "source": [
    "records = JSONContent['result']['records']\n",
    "df = getDataframe(records, features)\n",
    "tamanio = len(df)\n",
    "df.head()"
   ]
  },
  {
   "cell_type": "markdown",
   "metadata": {},
   "source": [
    "Due to there are only 100 records, let's proceed to iterate to find the other ones"
   ]
  },
  {
   "cell_type": "code",
   "execution_count": 15,
   "metadata": {},
   "outputs": [
    {
     "name": "stdout",
     "output_type": "stream",
     "text": [
      "TAMANIO: 100\n",
      "TAMANIO: 200\n",
      "TAMANIO: 227\n"
     ]
    }
   ],
   "source": [
    "baseURL='https://cali.ckan.io'\n",
    "links=JSONContent['result']['_links']\n",
    "while(tamanio > 0):\n",
    "    nextURL=JSONContent['result']['_links']['next']\n",
    "    url = f\"{baseURL}{nextURL}\"\n",
    "    JSONContent = requests.get(url).json()\n",
    "    records = JSONContent['result']['records']\n",
    "    new_df = getDataframe(records, features)\n",
    "    tamanio = len(new_df)\n",
    "    print('TAMANIO:', len(df))\n",
    "    df = pd.concat([df, new_df])"
   ]
  },
  {
   "cell_type": "markdown",
   "metadata": {},
   "source": [
    "### Data exploration"
   ]
  },
  {
   "cell_type": "markdown",
   "metadata": {},
   "source": [
    "Let's explore de data:"
   ]
  },
  {
   "cell_type": "code",
   "execution_count": 16,
   "metadata": {},
   "outputs": [
    {
     "data": {
      "text/html": [
       "<div>\n",
       "<style scoped>\n",
       "    .dataframe tbody tr th:only-of-type {\n",
       "        vertical-align: middle;\n",
       "    }\n",
       "\n",
       "    .dataframe tbody tr th {\n",
       "        vertical-align: top;\n",
       "    }\n",
       "\n",
       "    .dataframe thead th {\n",
       "        text-align: right;\n",
       "    }\n",
       "</style>\n",
       "<table border=\"1\" class=\"dataframe\">\n",
       "  <thead>\n",
       "    <tr style=\"text-align: right;\">\n",
       "      <th></th>\n",
       "      <th>type</th>\n",
       "      <th>id</th>\n",
       "      <th>label</th>\n",
       "      <th>note</th>\n",
       "    </tr>\n",
       "  </thead>\n",
       "  <tbody>\n",
       "    <tr>\n",
       "      <th>0</th>\n",
       "      <td>int</td>\n",
       "      <td>_id</td>\n",
       "      <td></td>\n",
       "      <td></td>\n",
       "    </tr>\n",
       "    <tr>\n",
       "      <th>1</th>\n",
       "      <td>text</td>\n",
       "      <td>DEPARTAMENTO</td>\n",
       "      <td>DEPARTAMENTO</td>\n",
       "      <td>Departamento en dónde ocurrió el delíto.</td>\n",
       "    </tr>\n",
       "    <tr>\n",
       "      <th>2</th>\n",
       "      <td>text</td>\n",
       "      <td>MUNICIPIO</td>\n",
       "      <td>MUNICIPIO</td>\n",
       "      <td>Municipio en dónde ocurrió el delíto.</td>\n",
       "    </tr>\n",
       "    <tr>\n",
       "      <th>3</th>\n",
       "      <td>numeric</td>\n",
       "      <td>CODIGO DANE</td>\n",
       "      <td>CODIGO DANE</td>\n",
       "      <td>Código DANE que identifica al Departamento y M...</td>\n",
       "    </tr>\n",
       "    <tr>\n",
       "      <th>4</th>\n",
       "      <td>text</td>\n",
       "      <td>ARMAS MEDIOS</td>\n",
       "      <td>ARMAS MEDIOS</td>\n",
       "      <td>Corresponde al típo de arma o medio usado dura...</td>\n",
       "    </tr>\n",
       "    <tr>\n",
       "      <th>5</th>\n",
       "      <td>text</td>\n",
       "      <td>MES</td>\n",
       "      <td>MES</td>\n",
       "      <td>Mes del año en el cúal ocurrió el delíto.</td>\n",
       "    </tr>\n",
       "    <tr>\n",
       "      <th>6</th>\n",
       "      <td>text</td>\n",
       "      <td>DESCRIPCION CONDUCTA</td>\n",
       "      <td>DESCRIPCION CONDUCTA</td>\n",
       "      <td>Corresponde al artículo que hace referencia al...</td>\n",
       "    </tr>\n",
       "    <tr>\n",
       "      <th>7</th>\n",
       "      <td>text</td>\n",
       "      <td>GENERO</td>\n",
       "      <td></td>\n",
       "      <td></td>\n",
       "    </tr>\n",
       "    <tr>\n",
       "      <th>8</th>\n",
       "      <td>text</td>\n",
       "      <td>AGRUPA EDAD PERSONA</td>\n",
       "      <td>AGRUPA EDAD PERSONA</td>\n",
       "      <td>Es el grupo de edad al cúal pertenece la perso...</td>\n",
       "    </tr>\n",
       "    <tr>\n",
       "      <th>9</th>\n",
       "      <td>numeric</td>\n",
       "      <td>CANTIDAD</td>\n",
       "      <td>CANTIDAD</td>\n",
       "      <td>¿Cantidad de involucrados en el delíto?</td>\n",
       "    </tr>\n",
       "    <tr>\n",
       "      <th>10</th>\n",
       "      <td>numeric</td>\n",
       "      <td>ANIO</td>\n",
       "      <td>ANIO</td>\n",
       "      <td>Año en el cúal ocurrió el delíto.</td>\n",
       "    </tr>\n",
       "  </tbody>\n",
       "</table>\n",
       "</div>"
      ],
      "text/plain": [
       "       type                    id                 label  \\\n",
       "0       int                   _id                         \n",
       "1      text          DEPARTAMENTO          DEPARTAMENTO   \n",
       "2      text             MUNICIPIO             MUNICIPIO   \n",
       "3   numeric           CODIGO DANE           CODIGO DANE   \n",
       "4      text          ARMAS MEDIOS          ARMAS MEDIOS   \n",
       "5      text                   MES                   MES   \n",
       "6      text  DESCRIPCION CONDUCTA  DESCRIPCION CONDUCTA   \n",
       "7      text                GENERO                         \n",
       "8      text   AGRUPA EDAD PERSONA   AGRUPA EDAD PERSONA   \n",
       "9   numeric              CANTIDAD              CANTIDAD   \n",
       "10  numeric                  ANIO                  ANIO   \n",
       "\n",
       "                                                 note  \n",
       "0                                                      \n",
       "1            Departamento en dónde ocurrió el delíto.  \n",
       "2               Municipio en dónde ocurrió el delíto.  \n",
       "3   Código DANE que identifica al Departamento y M...  \n",
       "4   Corresponde al típo de arma o medio usado dura...  \n",
       "5           Mes del año en el cúal ocurrió el delíto.  \n",
       "6   Corresponde al artículo que hace referencia al...  \n",
       "7                                                      \n",
       "8   Es el grupo de edad al cúal pertenece la perso...  \n",
       "9             ¿Cantidad de involucrados en el delíto?  \n",
       "10                  Año en el cúal ocurrió el delíto.  "
      ]
     },
     "execution_count": 16,
     "metadata": {},
     "output_type": "execute_result"
    }
   ],
   "source": [
    "fields = JSONContent['result']['fields']\n",
    "df_info =  pd.DataFrame()\n",
    "df_info['type'] = list(map(lambda field: field['type'], fields))\n",
    "df_info['id'] = list(map(lambda field: field['id'], fields))\n",
    "df_info['label'] = list(map(lambda field: field['info']['label'] if 'info' in field else '', fields))\n",
    "df_info['note'] = list(map(lambda field: field['info']['notes'] if 'info' in field else '', fields))\n",
    "df_info"
   ]
  },
  {
   "cell_type": "code",
   "execution_count": 17,
   "metadata": {},
   "outputs": [
    {
     "data": {
      "text/html": [
       "<div>\n",
       "<style scoped>\n",
       "    .dataframe tbody tr th:only-of-type {\n",
       "        vertical-align: middle;\n",
       "    }\n",
       "\n",
       "    .dataframe tbody tr th {\n",
       "        vertical-align: top;\n",
       "    }\n",
       "\n",
       "    .dataframe thead th {\n",
       "        text-align: right;\n",
       "    }\n",
       "</style>\n",
       "<table border=\"1\" class=\"dataframe\">\n",
       "  <thead>\n",
       "    <tr style=\"text-align: right;\">\n",
       "      <th></th>\n",
       "      <th>DEPARTAMENTO</th>\n",
       "      <th>MUNICIPIO</th>\n",
       "      <th>ARMAS MEDIOS</th>\n",
       "      <th>MES</th>\n",
       "      <th>DESCRIPCION CONDUCTA</th>\n",
       "      <th>GENERO</th>\n",
       "      <th>AGRUPA EDAD PERSONA</th>\n",
       "    </tr>\n",
       "  </thead>\n",
       "  <tbody>\n",
       "    <tr>\n",
       "      <th>count</th>\n",
       "      <td>227</td>\n",
       "      <td>227</td>\n",
       "      <td>227</td>\n",
       "      <td>227</td>\n",
       "      <td>227</td>\n",
       "      <td>227</td>\n",
       "      <td>227</td>\n",
       "    </tr>\n",
       "    <tr>\n",
       "      <th>unique</th>\n",
       "      <td>1</td>\n",
       "      <td>1</td>\n",
       "      <td>6</td>\n",
       "      <td>6</td>\n",
       "      <td>15</td>\n",
       "      <td>2</td>\n",
       "      <td>3</td>\n",
       "    </tr>\n",
       "    <tr>\n",
       "      <th>top</th>\n",
       "      <td>VALLE</td>\n",
       "      <td>CALI (CT)</td>\n",
       "      <td>SIN EMPLEO DE ARMAS</td>\n",
       "      <td>FEBRERO</td>\n",
       "      <td>ARTÍCULO 209. ACTOS SEXUALES CON MENOR DE 14 AÑOS</td>\n",
       "      <td>FEMENINO</td>\n",
       "      <td>ADULTOS</td>\n",
       "    </tr>\n",
       "    <tr>\n",
       "      <th>freq</th>\n",
       "      <td>227</td>\n",
       "      <td>227</td>\n",
       "      <td>93</td>\n",
       "      <td>47</td>\n",
       "      <td>48</td>\n",
       "      <td>176</td>\n",
       "      <td>87</td>\n",
       "    </tr>\n",
       "  </tbody>\n",
       "</table>\n",
       "</div>"
      ],
      "text/plain": [
       "       DEPARTAMENTO  MUNICIPIO         ARMAS MEDIOS      MES  \\\n",
       "count           227        227                  227      227   \n",
       "unique            1          1                    6        6   \n",
       "top           VALLE  CALI (CT)  SIN EMPLEO DE ARMAS  FEBRERO   \n",
       "freq            227        227                   93       47   \n",
       "\n",
       "                                     DESCRIPCION CONDUCTA    GENERO  \\\n",
       "count                                                 227       227   \n",
       "unique                                                 15         2   \n",
       "top     ARTÍCULO 209. ACTOS SEXUALES CON MENOR DE 14 AÑOS  FEMENINO   \n",
       "freq                                                   48       176   \n",
       "\n",
       "       AGRUPA EDAD PERSONA  \n",
       "count                  227  \n",
       "unique                   3  \n",
       "top                ADULTOS  \n",
       "freq                    87  "
      ]
     },
     "execution_count": 17,
     "metadata": {},
     "output_type": "execute_result"
    }
   ],
   "source": [
    "df.describe(include=np.object)"
   ]
  },
  {
   "cell_type": "code",
   "execution_count": 18,
   "metadata": {},
   "outputs": [],
   "source": [
    "df.to_csv(\"DELITOS_SEXUALES_2020.csv\")"
   ]
  },
  {
   "cell_type": "code",
   "execution_count": null,
   "metadata": {},
   "outputs": [],
   "source": []
  }
 ],
 "metadata": {
  "kernelspec": {
   "display_name": "Python 3",
   "language": "python",
   "name": "python3"
  },
  "language_info": {
   "codemirror_mode": {
    "name": "ipython",
    "version": 3
   },
   "file_extension": ".py",
   "mimetype": "text/x-python",
   "name": "python",
   "nbconvert_exporter": "python",
   "pygments_lexer": "ipython3",
   "version": "3.7.6"
  }
 },
 "nbformat": 4,
 "nbformat_minor": 4
}
